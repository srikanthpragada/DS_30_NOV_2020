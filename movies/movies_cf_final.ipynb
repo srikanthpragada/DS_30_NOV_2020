{
 "cells": [
  {
   "cell_type": "markdown",
   "metadata": {},
   "source": [
    "## Recommending movies using Collaborative Filtering "
   ]
  },
  {
   "cell_type": "code",
   "execution_count": 19,
   "metadata": {},
   "outputs": [],
   "source": [
    "import pandas as pd\n",
    "import numpy as np\n",
    "from scipy.spatial.distance import hamming"
   ]
  },
  {
   "cell_type": "code",
   "execution_count": 20,
   "metadata": {},
   "outputs": [],
   "source": [
    "import warnings\n",
    "warnings.simplefilter(action='ignore',category=Warning)"
   ]
  },
  {
   "cell_type": "code",
   "execution_count": 21,
   "metadata": {},
   "outputs": [],
   "source": [
    "df_ratings = pd.read_csv(\"recent_ratings.csv\")\n",
    "df_movies = pd.read_csv('recent_movies.csv')"
   ]
  },
  {
   "cell_type": "code",
   "execution_count": 22,
   "metadata": {},
   "outputs": [
    {
     "data": {
      "text/plain": [
       "(552, 4)"
      ]
     },
     "execution_count": 22,
     "metadata": {},
     "output_type": "execute_result"
    }
   ],
   "source": [
    "df_ratings.shape"
   ]
  },
  {
   "cell_type": "code",
   "execution_count": 23,
   "metadata": {},
   "outputs": [
    {
     "data": {
      "text/html": [
       "<div>\n",
       "<style scoped>\n",
       "    .dataframe tbody tr th:only-of-type {\n",
       "        vertical-align: middle;\n",
       "    }\n",
       "\n",
       "    .dataframe tbody tr th {\n",
       "        vertical-align: top;\n",
       "    }\n",
       "\n",
       "    .dataframe thead th {\n",
       "        text-align: right;\n",
       "    }\n",
       "</style>\n",
       "<table border=\"1\" class=\"dataframe\">\n",
       "  <thead>\n",
       "    <tr style=\"text-align: right;\">\n",
       "      <th></th>\n",
       "      <th>userId</th>\n",
       "      <th>movieId</th>\n",
       "      <th>rating</th>\n",
       "      <th>timestamp</th>\n",
       "    </tr>\n",
       "  </thead>\n",
       "  <tbody>\n",
       "    <tr>\n",
       "      <th>28</th>\n",
       "      <td>50</td>\n",
       "      <td>175661</td>\n",
       "      <td>1.5</td>\n",
       "      <td>1514240027</td>\n",
       "    </tr>\n",
       "    <tr>\n",
       "      <th>438</th>\n",
       "      <td>515</td>\n",
       "      <td>122918</td>\n",
       "      <td>5.0</td>\n",
       "      <td>1513602063</td>\n",
       "    </tr>\n",
       "    <tr>\n",
       "      <th>217</th>\n",
       "      <td>233</td>\n",
       "      <td>177593</td>\n",
       "      <td>5.0</td>\n",
       "      <td>1524781384</td>\n",
       "    </tr>\n",
       "    <tr>\n",
       "      <th>389</th>\n",
       "      <td>414</td>\n",
       "      <td>184791</td>\n",
       "      <td>2.5</td>\n",
       "      <td>1519592410</td>\n",
       "    </tr>\n",
       "    <tr>\n",
       "      <th>86</th>\n",
       "      <td>111</td>\n",
       "      <td>167634</td>\n",
       "      <td>4.5</td>\n",
       "      <td>1516153933</td>\n",
       "    </tr>\n",
       "  </tbody>\n",
       "</table>\n",
       "</div>"
      ],
      "text/plain": [
       "     userId  movieId  rating   timestamp\n",
       "28       50   175661     1.5  1514240027\n",
       "438     515   122918     5.0  1513602063\n",
       "217     233   177593     5.0  1524781384\n",
       "389     414   184791     2.5  1519592410\n",
       "86      111   167634     4.5  1516153933"
      ]
     },
     "execution_count": 23,
     "metadata": {},
     "output_type": "execute_result"
    }
   ],
   "source": [
    "df_ratings.sample(5)"
   ]
  },
  {
   "cell_type": "code",
   "execution_count": 24,
   "metadata": {},
   "outputs": [],
   "source": [
    "# Remove timestamp column  \n",
    "df_ratings.drop(columns='timestamp', inplace=True)"
   ]
  },
  {
   "cell_type": "code",
   "execution_count": 25,
   "metadata": {},
   "outputs": [
    {
     "data": {
      "text/html": [
       "<div>\n",
       "<style scoped>\n",
       "    .dataframe tbody tr th:only-of-type {\n",
       "        vertical-align: middle;\n",
       "    }\n",
       "\n",
       "    .dataframe tbody tr th {\n",
       "        vertical-align: top;\n",
       "    }\n",
       "\n",
       "    .dataframe thead th {\n",
       "        text-align: right;\n",
       "    }\n",
       "</style>\n",
       "<table border=\"1\" class=\"dataframe\">\n",
       "  <thead>\n",
       "    <tr style=\"text-align: right;\">\n",
       "      <th></th>\n",
       "      <th>userId</th>\n",
       "      <th>movieId</th>\n",
       "      <th>rating</th>\n",
       "    </tr>\n",
       "  </thead>\n",
       "  <tbody>\n",
       "    <tr>\n",
       "      <th>451</th>\n",
       "      <td>556</td>\n",
       "      <td>187031</td>\n",
       "      <td>4.0</td>\n",
       "    </tr>\n",
       "    <tr>\n",
       "      <th>429</th>\n",
       "      <td>514</td>\n",
       "      <td>185033</td>\n",
       "      <td>2.0</td>\n",
       "    </tr>\n",
       "    <tr>\n",
       "      <th>35</th>\n",
       "      <td>62</td>\n",
       "      <td>122898</td>\n",
       "      <td>4.0</td>\n",
       "    </tr>\n",
       "    <tr>\n",
       "      <th>266</th>\n",
       "      <td>279</td>\n",
       "      <td>175303</td>\n",
       "      <td>5.0</td>\n",
       "    </tr>\n",
       "    <tr>\n",
       "      <th>65</th>\n",
       "      <td>89</td>\n",
       "      <td>176805</td>\n",
       "      <td>4.0</td>\n",
       "    </tr>\n",
       "  </tbody>\n",
       "</table>\n",
       "</div>"
      ],
      "text/plain": [
       "     userId  movieId  rating\n",
       "451     556   187031     4.0\n",
       "429     514   185033     2.0\n",
       "35       62   122898     4.0\n",
       "266     279   175303     5.0\n",
       "65       89   176805     4.0"
      ]
     },
     "execution_count": 25,
     "metadata": {},
     "output_type": "execute_result"
    }
   ],
   "source": [
    "df_ratings.sample(5)"
   ]
  },
  {
   "cell_type": "code",
   "execution_count": 26,
   "metadata": {},
   "outputs": [],
   "source": [
    "# Get rating for each user and movie - userid is row label and movieid is column label \n",
    "ratings = df_ratings.pivot(\n",
    "    index='userId',\n",
    "    columns='movieId',\n",
    "    values='rating')"
   ]
  },
  {
   "cell_type": "code",
   "execution_count": 27,
   "metadata": {},
   "outputs": [
    {
     "data": {
      "text/html": [
       "<div>\n",
       "<style scoped>\n",
       "    .dataframe tbody tr th:only-of-type {\n",
       "        vertical-align: middle;\n",
       "    }\n",
       "\n",
       "    .dataframe tbody tr th {\n",
       "        vertical-align: top;\n",
       "    }\n",
       "\n",
       "    .dataframe thead th {\n",
       "        text-align: right;\n",
       "    }\n",
       "</style>\n",
       "<table border=\"1\" class=\"dataframe\">\n",
       "  <thead>\n",
       "    <tr style=\"text-align: right;\">\n",
       "      <th>movieId</th>\n",
       "      <th>122896</th>\n",
       "      <th>122898</th>\n",
       "      <th>122906</th>\n",
       "      <th>122912</th>\n",
       "      <th>122916</th>\n",
       "      <th>122918</th>\n",
       "      <th>122926</th>\n",
       "      <th>143355</th>\n",
       "      <th>166534</th>\n",
       "      <th>167064</th>\n",
       "      <th>...</th>\n",
       "      <th>189381</th>\n",
       "      <th>189713</th>\n",
       "      <th>190183</th>\n",
       "      <th>190209</th>\n",
       "      <th>190215</th>\n",
       "      <th>191005</th>\n",
       "      <th>193581</th>\n",
       "      <th>193583</th>\n",
       "      <th>193585</th>\n",
       "      <th>193587</th>\n",
       "    </tr>\n",
       "    <tr>\n",
       "      <th>userId</th>\n",
       "      <th></th>\n",
       "      <th></th>\n",
       "      <th></th>\n",
       "      <th></th>\n",
       "      <th></th>\n",
       "      <th></th>\n",
       "      <th></th>\n",
       "      <th></th>\n",
       "      <th></th>\n",
       "      <th></th>\n",
       "      <th></th>\n",
       "      <th></th>\n",
       "      <th></th>\n",
       "      <th></th>\n",
       "      <th></th>\n",
       "      <th></th>\n",
       "      <th></th>\n",
       "      <th></th>\n",
       "      <th></th>\n",
       "      <th></th>\n",
       "      <th></th>\n",
       "    </tr>\n",
       "  </thead>\n",
       "  <tbody>\n",
       "    <tr>\n",
       "      <th>515</th>\n",
       "      <td>NaN</td>\n",
       "      <td>NaN</td>\n",
       "      <td>NaN</td>\n",
       "      <td>NaN</td>\n",
       "      <td>5.0</td>\n",
       "      <td>5.0</td>\n",
       "      <td>NaN</td>\n",
       "      <td>NaN</td>\n",
       "      <td>NaN</td>\n",
       "      <td>NaN</td>\n",
       "      <td>...</td>\n",
       "      <td>NaN</td>\n",
       "      <td>NaN</td>\n",
       "      <td>NaN</td>\n",
       "      <td>NaN</td>\n",
       "      <td>NaN</td>\n",
       "      <td>NaN</td>\n",
       "      <td>NaN</td>\n",
       "      <td>NaN</td>\n",
       "      <td>NaN</td>\n",
       "      <td>NaN</td>\n",
       "    </tr>\n",
       "    <tr>\n",
       "      <th>362</th>\n",
       "      <td>NaN</td>\n",
       "      <td>NaN</td>\n",
       "      <td>NaN</td>\n",
       "      <td>NaN</td>\n",
       "      <td>NaN</td>\n",
       "      <td>NaN</td>\n",
       "      <td>NaN</td>\n",
       "      <td>NaN</td>\n",
       "      <td>NaN</td>\n",
       "      <td>NaN</td>\n",
       "      <td>...</td>\n",
       "      <td>NaN</td>\n",
       "      <td>NaN</td>\n",
       "      <td>NaN</td>\n",
       "      <td>NaN</td>\n",
       "      <td>NaN</td>\n",
       "      <td>NaN</td>\n",
       "      <td>NaN</td>\n",
       "      <td>NaN</td>\n",
       "      <td>NaN</td>\n",
       "      <td>NaN</td>\n",
       "    </tr>\n",
       "    <tr>\n",
       "      <th>305</th>\n",
       "      <td>NaN</td>\n",
       "      <td>NaN</td>\n",
       "      <td>NaN</td>\n",
       "      <td>4.5</td>\n",
       "      <td>4.5</td>\n",
       "      <td>3.5</td>\n",
       "      <td>4.0</td>\n",
       "      <td>NaN</td>\n",
       "      <td>NaN</td>\n",
       "      <td>NaN</td>\n",
       "      <td>...</td>\n",
       "      <td>NaN</td>\n",
       "      <td>NaN</td>\n",
       "      <td>NaN</td>\n",
       "      <td>NaN</td>\n",
       "      <td>NaN</td>\n",
       "      <td>NaN</td>\n",
       "      <td>NaN</td>\n",
       "      <td>NaN</td>\n",
       "      <td>NaN</td>\n",
       "      <td>NaN</td>\n",
       "    </tr>\n",
       "    <tr>\n",
       "      <th>448</th>\n",
       "      <td>NaN</td>\n",
       "      <td>NaN</td>\n",
       "      <td>NaN</td>\n",
       "      <td>NaN</td>\n",
       "      <td>NaN</td>\n",
       "      <td>NaN</td>\n",
       "      <td>NaN</td>\n",
       "      <td>NaN</td>\n",
       "      <td>NaN</td>\n",
       "      <td>NaN</td>\n",
       "      <td>...</td>\n",
       "      <td>NaN</td>\n",
       "      <td>NaN</td>\n",
       "      <td>NaN</td>\n",
       "      <td>NaN</td>\n",
       "      <td>NaN</td>\n",
       "      <td>NaN</td>\n",
       "      <td>NaN</td>\n",
       "      <td>NaN</td>\n",
       "      <td>NaN</td>\n",
       "      <td>NaN</td>\n",
       "    </tr>\n",
       "    <tr>\n",
       "      <th>514</th>\n",
       "      <td>NaN</td>\n",
       "      <td>NaN</td>\n",
       "      <td>2.0</td>\n",
       "      <td>NaN</td>\n",
       "      <td>NaN</td>\n",
       "      <td>NaN</td>\n",
       "      <td>4.0</td>\n",
       "      <td>NaN</td>\n",
       "      <td>NaN</td>\n",
       "      <td>NaN</td>\n",
       "      <td>...</td>\n",
       "      <td>NaN</td>\n",
       "      <td>NaN</td>\n",
       "      <td>NaN</td>\n",
       "      <td>NaN</td>\n",
       "      <td>NaN</td>\n",
       "      <td>NaN</td>\n",
       "      <td>NaN</td>\n",
       "      <td>NaN</td>\n",
       "      <td>NaN</td>\n",
       "      <td>NaN</td>\n",
       "    </tr>\n",
       "  </tbody>\n",
       "</table>\n",
       "<p>5 rows × 188 columns</p>\n",
       "</div>"
      ],
      "text/plain": [
       "movieId  122896  122898  122906  122912  122916  122918  122926  143355  \\\n",
       "userId                                                                    \n",
       "515         NaN     NaN     NaN     NaN     5.0     5.0     NaN     NaN   \n",
       "362         NaN     NaN     NaN     NaN     NaN     NaN     NaN     NaN   \n",
       "305         NaN     NaN     NaN     4.5     4.5     3.5     4.0     NaN   \n",
       "448         NaN     NaN     NaN     NaN     NaN     NaN     NaN     NaN   \n",
       "514         NaN     NaN     2.0     NaN     NaN     NaN     4.0     NaN   \n",
       "\n",
       "movieId  166534  167064  ...  189381  189713  190183  190209  190215  191005  \\\n",
       "userId                   ...                                                   \n",
       "515         NaN     NaN  ...     NaN     NaN     NaN     NaN     NaN     NaN   \n",
       "362         NaN     NaN  ...     NaN     NaN     NaN     NaN     NaN     NaN   \n",
       "305         NaN     NaN  ...     NaN     NaN     NaN     NaN     NaN     NaN   \n",
       "448         NaN     NaN  ...     NaN     NaN     NaN     NaN     NaN     NaN   \n",
       "514         NaN     NaN  ...     NaN     NaN     NaN     NaN     NaN     NaN   \n",
       "\n",
       "movieId  193581  193583  193585  193587  \n",
       "userId                                   \n",
       "515         NaN     NaN     NaN     NaN  \n",
       "362         NaN     NaN     NaN     NaN  \n",
       "305         NaN     NaN     NaN     NaN  \n",
       "448         NaN     NaN     NaN     NaN  \n",
       "514         NaN     NaN     NaN     NaN  \n",
       "\n",
       "[5 rows x 188 columns]"
      ]
     },
     "execution_count": 27,
     "metadata": {},
     "output_type": "execute_result"
    }
   ],
   "source": [
    "ratings.sample(5)"
   ]
  },
  {
   "cell_type": "markdown",
   "metadata": {},
   "source": [
    "### Hamming Distance\n",
    "Measures how different two sequences are. It is % of disagreement. A value of 1 indicates sequences are very different, 0 indicates they are very similar."
   ]
  },
  {
   "cell_type": "code",
   "execution_count": 28,
   "metadata": {},
   "outputs": [],
   "source": [
    "# Find out hamming distance between two users\n",
    "def hamming_distance(user1,user2):\n",
    "    # Ratings of a user \n",
    "    try:\n",
    "        user1_ratings = ratings.loc[user1,:]\n",
    "        user2_ratings = ratings.loc[user2,:]\n",
    "        distance = hamming(user1_ratings, user2_ratings)\n",
    "    except:\n",
    "        distance = np.NaN\n",
    "\n",
    "    return distance    "
   ]
  },
  {
   "cell_type": "code",
   "execution_count": 29,
   "metadata": {},
   "outputs": [],
   "source": [
    "def get_nearest_users(active_user, k = 10):\n",
    "    all_users = pd.DataFrame(ratings.index) # UserIds \n",
    "    other_users = all_users[all_users.userId != active_user]\n",
    "    other_users['distance'] = other_users['userId'].apply(lambda x: hamming_distance(active_user,x))\n",
    "    \n",
    "    # find out hamming distance and return users with low hamming distance from active user \n",
    "    return  other_users.sort_values(['distance'], ascending = True).userId[:k]"
   ]
  },
  {
   "cell_type": "code",
   "execution_count": 30,
   "metadata": {},
   "outputs": [],
   "source": [
    "def get_recommended_movies(ratings,movies, user,top=5):\n",
    "    # Find out nearest neighbours\n",
    "    nn_users = get_nearest_users(user,10)\n",
    "    \n",
    "    # Get ratings of other nearest neighbours(users)\n",
    "    nn_ratings = ratings[ratings.index.isin(nn_users)]\n",
    "    \n",
    "    # Average ratings giving by nearest neighbours for other movies\n",
    "    avg_ratings = nn_ratings.apply(np.nanmean).dropna()\n",
    "    \n",
    "    # Find out movies that user had already watched\n",
    "    movies_watched = ratings.transpose()[user].dropna().index\n",
    "    \n",
    "    # remove movies that user already watched\n",
    "    avg_ratings = avg_ratings[~ avg_ratings.index.isin(movies_watched)]\n",
    "    \n",
    "    # Findout top n movies based on avg ratings given by other nearest neighbours \n",
    "    top_movies = avg_ratings.sort_values(ascending=False).index[:top]\n",
    "   \n",
    "    # Return recommended movies \n",
    "    return movies[movies.movieId.isin(top_movies)].title"
   ]
  },
  {
   "cell_type": "code",
   "execution_count": 31,
   "metadata": {},
   "outputs": [
    {
     "data": {
      "text/plain": [
       "22                                  The Boss Baby (2017)\n",
       "28                           Neal Brennan: 3 Mics (2017)\n",
       "38                                         Gifted (2017)\n",
       "56                                Tickling Giants (2017)\n",
       "73                                    Logan Lucky (2017)\n",
       "97      Three Billboards Outside Ebbing, Missouri (2017)\n",
       "105                                  Paddington 2 (2017)\n",
       "125                           The Disaster Artist (2017)\n",
       "132    Too Funny to Fail: The Life and Death of The D...\n",
       "145                                  Isle of Dogs (2018)\n",
       "Name: title, dtype: object"
      ]
     },
     "execution_count": 31,
     "metadata": {},
     "output_type": "execute_result"
    }
   ],
   "source": [
    "get_recommended_movies(ratings,df_movies,249,10)"
   ]
  },
  {
   "cell_type": "code",
   "execution_count": 32,
   "metadata": {},
   "outputs": [
    {
     "data": {
      "text/plain": [
       "3               Avengers: Infinity War - Part I (2018)\n",
       "12                        The Lego Batman Movie (2017)\n",
       "15                       John Wick: Chapter Two (2017)\n",
       "20                                 The Big Sick (2017)\n",
       "97    Three Billboards Outside Ebbing, Missouri (2017)\n",
       "Name: title, dtype: object"
      ]
     },
     "execution_count": 32,
     "metadata": {},
     "output_type": "execute_result"
    }
   ],
   "source": [
    "get_recommended_movies(ratings,df_movies, 433,5)"
   ]
  },
  {
   "cell_type": "code",
   "execution_count": null,
   "metadata": {},
   "outputs": [],
   "source": []
  }
 ],
 "metadata": {
  "kernelspec": {
   "display_name": "Python 3",
   "language": "python",
   "name": "python3"
  },
  "language_info": {
   "codemirror_mode": {
    "name": "ipython",
    "version": 3
   },
   "file_extension": ".py",
   "mimetype": "text/x-python",
   "name": "python",
   "nbconvert_exporter": "python",
   "pygments_lexer": "ipython3",
   "version": "3.8.3"
  }
 },
 "nbformat": 4,
 "nbformat_minor": 4
}
