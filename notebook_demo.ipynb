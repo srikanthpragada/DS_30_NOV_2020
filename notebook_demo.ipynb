{
 "cells": [
  {
   "cell_type": "code",
   "execution_count": 44,
   "metadata": {},
   "outputs": [],
   "source": [
    "from datetime import datetime"
   ]
  },
  {
   "cell_type": "code",
   "execution_count": 45,
   "metadata": {},
   "outputs": [
    {
     "data": {
      "text/plain": [
       "datetime.datetime(2020, 12, 3, 20, 53, 28, 996894)"
      ]
     },
     "execution_count": 45,
     "metadata": {},
     "output_type": "execute_result"
    }
   ],
   "source": [
    "datetime.now()"
   ]
  },
  {
   "cell_type": "code",
   "execution_count": 46,
   "metadata": {},
   "outputs": [
    {
     "name": "stdout",
     "output_type": "stream",
     "text": [
      "03-12-2020\n"
     ]
    }
   ],
   "source": [
    "cd = datetime.now()\n",
    "print( cd.strftime('%d-%m-%Y'))"
   ]
  },
  {
   "cell_type": "raw",
   "metadata": {},
   "source": [
    "This is a RAW cell"
   ]
  },
  {
   "cell_type": "markdown",
   "metadata": {},
   "source": [
    "### Srikanth Technologies\n",
    "<a href=\"http://www.srikanthtechnologies.com\">Website</a>"
   ]
  },
  {
   "cell_type": "code",
   "execution_count": 47,
   "metadata": {},
   "outputs": [
    {
     "name": "stdout",
     "output_type": "stream",
     "text": [
      "1\n",
      "4\n",
      "9\n",
      "16\n",
      "25\n",
      "36\n",
      "49\n",
      "64\n",
      "81\n"
     ]
    }
   ],
   "source": [
    "for i in range(1,10):\n",
    "     print(i * i)"
   ]
  },
  {
   "cell_type": "markdown",
   "metadata": {},
   "source": [
    "<a id=\"markdown\"></a>"
   ]
  },
  {
   "cell_type": "markdown",
   "metadata": {},
   "source": [
    "## Markdown Demo"
   ]
  },
  {
   "cell_type": "markdown",
   "metadata": {},
   "source": [
    "**Bold Text**\n",
    "*Italic*"
   ]
  },
  {
   "cell_type": "markdown",
   "metadata": {},
   "source": [
    "### Libraries\n",
    "- Numpy\n",
    "- Pandas"
   ]
  },
  {
   "cell_type": "markdown",
   "metadata": {},
   "source": [
    "1. Sklearn\n",
    "1. Tensorflow"
   ]
  },
  {
   "cell_type": "markdown",
   "metadata": {},
   "source": [
    "***"
   ]
  },
  {
   "cell_type": "markdown",
   "metadata": {},
   "source": [
    "[Markdown](#markdown)"
   ]
  },
  {
   "cell_type": "markdown",
   "metadata": {},
   "source": [
    "#### Boxes"
   ]
  },
  {
   "cell_type": "markdown",
   "metadata": {},
   "source": [
    "<div class=\"alert alert-block alert-info\">\n",
    "This is information box!\n",
    "</div>"
   ]
  },
  {
   "cell_type": "markdown",
   "metadata": {},
   "source": [
    "<div class=\"alert alert-block alert-danger\">\n",
    "This is error box!\n",
    "</div>"
   ]
  },
  {
   "cell_type": "code",
   "execution_count": 48,
   "metadata": {},
   "outputs": [
    {
     "data": {
      "text/html": [
       "<img src=\"http://www.srikanthtechnologies.com/logo.jpg\"/>"
      ],
      "text/plain": [
       "<IPython.core.display.Image object>"
      ]
     },
     "execution_count": 48,
     "metadata": {},
     "output_type": "execute_result"
    }
   ],
   "source": [
    "from IPython.display import Image\n",
    "Image(url =\"http://www.srikanthtechnologies.com/logo.jpg\")"
   ]
  },
  {
   "cell_type": "markdown",
   "metadata": {},
   "source": [
    "<img src=\"http://www.srikanthtechnologies.com/logo.jpg\"/>"
   ]
  },
  {
   "cell_type": "markdown",
   "metadata": {},
   "source": [
    "### Magic Functions"
   ]
  },
  {
   "cell_type": "code",
   "execution_count": 49,
   "metadata": {},
   "outputs": [
    {
     "name": "stdout",
     "output_type": "stream",
     "text": [
      "<div class=\"alert alert-block alert-danger\">\n",
      "This is error box!\n",
      "</div>\n",
      "from IPython.display import Image\n",
      "Image(url =\"http://www.srikanthtechnologies.com/logo.jpg\")\n",
      "<img src=\"http://www.srikanthtechnologies.com/logo.jpg\"/>\n",
      "%history\n",
      "%system dir\n",
      "%who\n",
      "a = 10\n",
      "b = 20\n",
      "%who\n",
      "from datetime import datetime\n",
      "datetime.now()\n",
      "cd = datetime.now()\n",
      "print( cd.strftime('%d-%m-%Y'))\n",
      "for i in range(1,10):\n",
      "     print(i * i)\n",
      "from IPython.display import Image\n",
      "Image(url =\"http://www.srikanthtechnologies.com/logo.jpg\")\n",
      "%history\n",
      "%system dir\n",
      "%who\n",
      "a = 10\n",
      "b = 20\n",
      "%%capture output\n",
      "for i in range(1,10):\n",
      "     print(i * i)\n",
      "output.stdout\n",
      "print(output.stdout)\n",
      "type(output)\n",
      "%%js\n",
      "var cd = Date()\n",
      "document.write(cd)\n",
      "%%timeit\n",
      "lst = []\n",
      "for n in range(1,1000):\n",
      "   lst.append(n*n)\n",
      "%%timeit -n 100\n",
      "lst = []\n",
      "for n in range(1,1000):\n",
      "   lst.append(n*n)\n",
      "%%timeit -n 100\n",
      "lst = [n * n for n in range(1,1000)]\n",
      "%%timeit -n 100\n",
      "lst = []\n",
      "for n in range(1,1000):\n",
      "   lst.append(n*n)\n",
      "%%timeit -n 100\n",
      "lst = [n * n for n in range(1,1000)]\n",
      "%%timeit -n 100\n",
      "lst = list((n * n for n in range(1,1000)))\n",
      "!cd\n",
      "!dir\n",
      "files = !dir\n",
      "files\n",
      "files = !dir c:\\classroom\\oct29\n",
      "files\n",
      "files = !dir c:\\classroom\\oct29\\demo\n",
      "files\n",
      "for line in files:\n",
      "    if line.find(\".py\") >= 0:\n",
      "         print(line)\n",
      "file = r\"c:\\classroom\\oct29\\demo\\factors.py\"\n",
      "!type {file}\n",
      "lines = !type {file}\n",
      "len(lines)\n",
      "from datetime import datetime\n",
      "datetime.now()\n",
      "cd = datetime.now()\n",
      "print( cd.strftime('%d-%m-%Y'))\n",
      "from datetime import datetime\n",
      "datetime.now()\n",
      "cd = datetime.now()\n",
      "print( cd.strftime('%d-%m-%Y'))\n",
      "for i in range(1,10):\n",
      "     print(i * i)\n",
      "from IPython.display import Image\n",
      "Image(url =\"http://www.srikanthtechnologies.com/logo.jpg\")\n",
      "%history\n"
     ]
    }
   ],
   "source": [
    "%history"
   ]
  },
  {
   "cell_type": "code",
   "execution_count": 50,
   "metadata": {},
   "outputs": [
    {
     "data": {
      "text/plain": [
       "[' Volume in drive C is OS',\n",
       " ' Volume Serial Number is D874-1F97',\n",
       " '',\n",
       " ' Directory of C:\\\\classroom\\\\nov30d',\n",
       " '',\n",
       " '03-12-2020  20:43    <DIR>          .',\n",
       " '03-12-2020  20:43    <DIR>          ..',\n",
       " '02-12-2020  20:20    <DIR>          .ipynb_checkpoints',\n",
       " '03-12-2020  19:57    <DIR>          basics',\n",
       " '03-12-2020  20:43            13,407 notebook_demo.ipynb',\n",
       " '               1 File(s)         13,407 bytes',\n",
       " '               4 Dir(s)  98,544,664,576 bytes free']"
      ]
     },
     "execution_count": 50,
     "metadata": {},
     "output_type": "execute_result"
    }
   ],
   "source": [
    "%system dir"
   ]
  },
  {
   "cell_type": "code",
   "execution_count": 51,
   "metadata": {},
   "outputs": [
    {
     "name": "stdout",
     "output_type": "stream",
     "text": [
      "Image\t a\t b\t cd\t datetime\t file\t files\t i\t line\t \n",
      "lines\t output\t \n"
     ]
    }
   ],
   "source": [
    "%who"
   ]
  },
  {
   "cell_type": "code",
   "execution_count": 52,
   "metadata": {},
   "outputs": [],
   "source": [
    "a = 10\n",
    "b = 20"
   ]
  },
  {
   "cell_type": "markdown",
   "metadata": {},
   "source": [
    "### Cell Magic"
   ]
  },
  {
   "cell_type": "code",
   "execution_count": 53,
   "metadata": {},
   "outputs": [],
   "source": [
    "%%capture output\n",
    "for i in range(1,10):\n",
    "     print(i * i)"
   ]
  },
  {
   "cell_type": "code",
   "execution_count": 54,
   "metadata": {},
   "outputs": [
    {
     "data": {
      "text/plain": [
       "IPython.utils.capture.CapturedIO"
      ]
     },
     "execution_count": 54,
     "metadata": {},
     "output_type": "execute_result"
    }
   ],
   "source": [
    "type(output)"
   ]
  },
  {
   "cell_type": "code",
   "execution_count": 55,
   "metadata": {},
   "outputs": [
    {
     "name": "stdout",
     "output_type": "stream",
     "text": [
      "1\n",
      "4\n",
      "9\n",
      "16\n",
      "25\n",
      "36\n",
      "49\n",
      "64\n",
      "81\n",
      "\n"
     ]
    }
   ],
   "source": [
    "print(output.stdout)"
   ]
  },
  {
   "cell_type": "code",
   "execution_count": 56,
   "metadata": {},
   "outputs": [
    {
     "data": {
      "application/javascript": [
       "var cd = Date()\n"
      ],
      "text/plain": [
       "<IPython.core.display.Javascript object>"
      ]
     },
     "metadata": {},
     "output_type": "display_data"
    }
   ],
   "source": [
    "%%js\n",
    "var cd = Date()"
   ]
  },
  {
   "cell_type": "markdown",
   "metadata": {},
   "source": [
    "#### %%timeit Demo"
   ]
  },
  {
   "cell_type": "code",
   "execution_count": 57,
   "metadata": {},
   "outputs": [
    {
     "name": "stdout",
     "output_type": "stream",
     "text": [
      "638 µs ± 119 µs per loop (mean ± std. dev. of 7 runs, 100 loops each)\n"
     ]
    }
   ],
   "source": [
    "%%timeit -n 100\n",
    "lst = []\n",
    "for n in range(1,1000):\n",
    "   lst.append(n*n)"
   ]
  },
  {
   "cell_type": "code",
   "execution_count": 58,
   "metadata": {},
   "outputs": [
    {
     "name": "stdout",
     "output_type": "stream",
     "text": [
      "395 µs ± 156 µs per loop (mean ± std. dev. of 7 runs, 100 loops each)\n"
     ]
    }
   ],
   "source": [
    "%%timeit -n 100\n",
    "lst = [n * n for n in range(1,1000)]"
   ]
  },
  {
   "cell_type": "markdown",
   "metadata": {},
   "source": [
    "### Shell Commands"
   ]
  },
  {
   "cell_type": "code",
   "execution_count": 59,
   "metadata": {},
   "outputs": [
    {
     "name": "stdout",
     "output_type": "stream",
     "text": [
      "C:\\classroom\\nov30d\n"
     ]
    }
   ],
   "source": [
    "!cd"
   ]
  },
  {
   "cell_type": "code",
   "execution_count": 60,
   "metadata": {},
   "outputs": [
    {
     "name": "stdout",
     "output_type": "stream",
     "text": [
      " Volume in drive C is OS\n",
      " Volume Serial Number is D874-1F97\n",
      "\n",
      " Directory of C:\\classroom\\nov30d\n",
      "\n",
      "03-12-2020  20:43    <DIR>          .\n",
      "03-12-2020  20:43    <DIR>          ..\n",
      "02-12-2020  20:20    <DIR>          .ipynb_checkpoints\n",
      "03-12-2020  19:57    <DIR>          basics\n",
      "03-12-2020  20:43            13,407 notebook_demo.ipynb\n",
      "               1 File(s)         13,407 bytes\n",
      "               4 Dir(s)  98,544,664,576 bytes free\n"
     ]
    }
   ],
   "source": [
    "!dir "
   ]
  },
  {
   "cell_type": "code",
   "execution_count": 61,
   "metadata": {},
   "outputs": [],
   "source": [
    "files = !dir c:\\classroom\\oct29\\demo"
   ]
  },
  {
   "cell_type": "code",
   "execution_count": 62,
   "metadata": {},
   "outputs": [
    {
     "data": {
      "text/plain": [
       "[' Volume in drive C is OS',\n",
       " ' Volume Serial Number is D874-1F97',\n",
       " '',\n",
       " ' Directory of c:\\\\classroom\\\\oct29\\\\demo',\n",
       " '',\n",
       " '02-12-2020  07:10    <DIR>          .',\n",
       " '02-12-2020  07:10    <DIR>          ..',\n",
       " '03-12-2020  15:13    <DIR>          .idea',\n",
       " '01-12-2020  07:27    <DIR>          assignments',\n",
       " '02-11-2020  07:30               160 display_grade.py',\n",
       " '13-11-2020  07:22    <DIR>          ds',\n",
       " '02-11-2020  07:20               147 even_odd.py',\n",
       " '26-11-2020  07:42    <DIR>          exhand',\n",
       " '20-11-2020  07:20               237 factors.py',\n",
       " '19-11-2020  07:05    <DIR>          funs',\n",
       " '03-12-2020  15:32    <DIR>          libdemo',\n",
       " '06-11-2020  07:52    <DIR>          loops',\n",
       " '20-11-2020  07:35    <DIR>          mylib',\n",
       " '03-11-2020  07:39               593 net_price.py',\n",
       " '01-12-2020  07:33    <DIR>          oop',\n",
       " '20-11-2020  07:08               353 test.py',\n",
       " '20-11-2020  07:31                88 use_mylib.py',\n",
       " '31-10-2020  07:38                90 welcome.py',\n",
       " '               7 File(s)          1,668 bytes',\n",
       " '              11 Dir(s)  98,544,599,040 bytes free']"
      ]
     },
     "execution_count": 62,
     "metadata": {},
     "output_type": "execute_result"
    }
   ],
   "source": [
    "files"
   ]
  },
  {
   "cell_type": "code",
   "execution_count": 63,
   "metadata": {},
   "outputs": [
    {
     "name": "stdout",
     "output_type": "stream",
     "text": [
      "02-11-2020  07:30               160 display_grade.py\n",
      "02-11-2020  07:20               147 even_odd.py\n",
      "20-11-2020  07:20               237 factors.py\n",
      "03-11-2020  07:39               593 net_price.py\n",
      "20-11-2020  07:08               353 test.py\n",
      "20-11-2020  07:31                88 use_mylib.py\n",
      "31-10-2020  07:38                90 welcome.py\n"
     ]
    }
   ],
   "source": [
    "for line in files:\n",
    "    if line.find(\".py\") >= 0:\n",
    "         print(line)"
   ]
  },
  {
   "cell_type": "code",
   "execution_count": 64,
   "metadata": {},
   "outputs": [
    {
     "name": "stdout",
     "output_type": "stream",
     "text": [
      "# Take a number and display its factors\n",
      "\n",
      "import sys\n",
      "\n",
      "if len(sys.argv) < 2:\n",
      "    print(\"Number required!\")\n",
      "    exit(0)\n",
      "\n",
      "\n",
      "num = int(sys.argv[1])\n",
      "for i in range(2, num // 2 + 1):\n",
      "    if num % i == 0:\n",
      "        print(i, end=' ')\n",
      "\n"
     ]
    }
   ],
   "source": [
    "file = r\"c:\\classroom\\oct29\\demo\\factors.py\"\n",
    "!type {file}"
   ]
  },
  {
   "cell_type": "code",
   "execution_count": 65,
   "metadata": {},
   "outputs": [],
   "source": [
    "lines = !type {file}"
   ]
  },
  {
   "cell_type": "code",
   "execution_count": 66,
   "metadata": {},
   "outputs": [
    {
     "data": {
      "text/plain": [
       "14"
      ]
     },
     "execution_count": 66,
     "metadata": {},
     "output_type": "execute_result"
    }
   ],
   "source": [
    "len(lines)"
   ]
  },
  {
   "cell_type": "code",
   "execution_count": null,
   "metadata": {},
   "outputs": [],
   "source": []
  }
 ],
 "metadata": {
  "kernelspec": {
   "display_name": "Python 3",
   "language": "python",
   "name": "python3"
  },
  "language_info": {
   "codemirror_mode": {
    "name": "ipython",
    "version": 3
   },
   "file_extension": ".py",
   "mimetype": "text/x-python",
   "name": "python",
   "nbconvert_exporter": "python",
   "pygments_lexer": "ipython3",
   "version": "3.8.5"
  }
 },
 "nbformat": 4,
 "nbformat_minor": 4
}
